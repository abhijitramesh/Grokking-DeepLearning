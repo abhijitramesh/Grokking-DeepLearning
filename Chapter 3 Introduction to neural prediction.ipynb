{
 "cells": [
  {
   "cell_type": "markdown",
   "metadata": {},
   "source": [
    "# Introduction to Neural Prediction"
   ]
  },
  {
   "cell_type": "markdown",
   "metadata": {},
   "source": [
    "#### A simple neural network"
   ]
  },
  {
   "cell_type": "markdown",
   "metadata": {},
   "source": [
    "An empty network"
   ]
  },
  {
   "cell_type": "code",
   "execution_count": 2,
   "metadata": {},
   "outputs": [],
   "source": [
    "weight = 0.1\n",
    "def neural_network(input,weight):\n",
    "    prediction = input*weight\n",
    "    return prediction"
   ]
  },
  {
   "cell_type": "markdown",
   "metadata": {},
   "source": [
    "We can use this network to make a prediciton"
   ]
  },
  {
   "cell_type": "code",
   "execution_count": 3,
   "metadata": {},
   "outputs": [
    {
     "name": "stdout",
     "output_type": "stream",
     "text": [
      "0.8500000000000001\n"
     ]
    }
   ],
   "source": [
    "number_of_toes = [8.5,9.5,10,9]\n",
    "input = number_of_toes[0]\n",
    "pred = neural_network(input,weight)\n",
    "print(pred)"
   ]
  },
  {
   "cell_type": "markdown",
   "metadata": {},
   "source": [
    "##### Making a prediction with multiple outputs"
   ]
  },
  {
   "cell_type": "code",
   "execution_count": 7,
   "metadata": {},
   "outputs": [
    {
     "name": "stdout",
     "output_type": "stream",
     "text": [
      "0.9800000000000001\n"
     ]
    }
   ],
   "source": [
    "def w_sum(a,b):\n",
    "    assert(len(a) == len(b))\n",
    "    output = 0\n",
    "    for i in range(len(a)):\n",
    "        output += a[i]*b[i]\n",
    "    return output\n",
    "\n",
    "weights = [0.1, 0.2, 0] \n",
    "\n",
    "def neural_network(input,weights):\n",
    "    prediction = w_sum(input,weights)\n",
    "    return prediction\n",
    "\n",
    "toes =  [8.5, 9.5, 9.9, 9.0]\n",
    "wlrec = [0.65, 0.8, 0.8, 0.9]\n",
    "nfans = [1.2, 1.3, 0.5, 1.0]\n",
    "\n",
    "input = [toes[0],wlrec[0],nfans[0]]\n",
    "\n",
    "pred = neural_network(input,weights)\n",
    "print(pred)"
   ]
  },
  {
   "cell_type": "markdown",
   "metadata": {},
   "source": [
    "#### Let's do the same thing with numpy so that we can take advantage of vector properties"
   ]
  },
  {
   "cell_type": "code",
   "execution_count": 9,
   "metadata": {},
   "outputs": [
    {
     "name": "stdout",
     "output_type": "stream",
     "text": [
      "0.9800000000000001\n"
     ]
    }
   ],
   "source": [
    "import numpy as np\n",
    "weights = np.array([0.1,0.2,0])\n",
    "\n",
    "def nerual_network(input,weights):\n",
    "        prediction = input.dot(weights)\n",
    "        return prediciton\n",
    "\n",
    "toes = np.array([8.5, 9.5, 9.9, 9.0])\n",
    "wlrec = np.array([0.65, 0.8, 0.8, 0.9])\n",
    "nfans = np.array([1.2, 1.3, 0.5, 1.0])\n",
    "\n",
    "input = [toes[0],wlrec[0],nfans[0]]\n",
    "\n",
    "pred = neural_network(input,weights)\n",
    "print(pred)"
   ]
  },
  {
   "cell_type": "markdown",
   "metadata": {},
   "source": [
    "#### We can do a multiple outputs given a single input source"
   ]
  },
  {
   "cell_type": "code",
   "execution_count": 11,
   "metadata": {},
   "outputs": [
    {
     "name": "stdout",
     "output_type": "stream",
     "text": [
      "[0.195, 0.13, 0.5850000000000001]\n"
     ]
    }
   ],
   "source": [
    "import numpy as np\n",
    "\n",
    "def ele_mul(number,vector):\n",
    "    output = [0,0,0]\n",
    "    assert(len(output)==len(vector))\n",
    "    for i in range(0,len(output)):\n",
    "        output[i] = number*vector[i]\n",
    "    return output\n",
    "\n",
    "weights = [0.3, 0.2, 0.9] \n",
    "\n",
    "def neural_network(input,weights):\n",
    "    pred = ele_mul(input,weights)\n",
    "    return pred\n",
    "\n",
    "wlrec = [0.65, 0.8, 0.8, 0.9]\n",
    "input = wlrec[0]\n",
    "pred = neural_network(input,weights)\n",
    "print(pred)"
   ]
  },
  {
   "cell_type": "code",
   "execution_count": 19,
   "metadata": {},
   "outputs": [
    {
     "name": "stdout",
     "output_type": "stream",
     "text": [
      "[0.555, 0.9800000000000001, 0.9650000000000001]\n"
     ]
    }
   ],
   "source": [
    "weights = [ [0.1, 0.1, -0.3], #hurt?\n",
    "            [0.1, 0.2, 0.0], #win?\n",
    "            [0.0, 1.3, 0.1] ] #sad?\n",
    "\n",
    "\n",
    "def w_sum(a,b):\n",
    "    assert(len(a) == len(b))\n",
    "    output = 0\n",
    "    for i in range(len(a)):\n",
    "        output += (a[i] * b[i])\n",
    "    return output\n",
    "def vect_mat_mul(vect,matrix):\n",
    "    assert(len(vect) == len(matrix))\n",
    "    output = [0,0,0]\n",
    "    for i in range(len(vect)):\n",
    "        output[i] = w_sum(vect,matrix[i])\n",
    "    return output\n",
    "\n",
    "def neural_network(input,weights):\n",
    "    pred = vect_mat_mul(input,weights)\n",
    "    return pred\n",
    "\n",
    "toes =  [8.5, 9.5, 9.9, 9.0]\n",
    "wlrec = [0.65,0.8, 0.8, 0.9]\n",
    "nfans = [1.2, 1.3, 0.5, 1.0]\n",
    "\n",
    "input = [toes[0],wlrec[0],nfans[0]]\n",
    "pred = neural_network(input,weights)\n",
    "\n",
    "print(pred)"
   ]
  },
  {
   "cell_type": "markdown",
   "metadata": {},
   "source": [
    "##### Predicting on prediction"
   ]
  },
  {
   "cell_type": "code",
   "execution_count": 21,
   "metadata": {},
   "outputs": [
    {
     "name": "stdout",
     "output_type": "stream",
     "text": [
      "[0.21350000000000002, 0.14500000000000002, 0.5065]\n"
     ]
    }
   ],
   "source": [
    "ih_wgt = [ [0.1, 0.2, -0.1], #hid[0]\n",
    "           [-0.1,0.1, 0.9], #hid[1]\n",
    "           [0.1, 0.4, 0.1] ] #hid[2]\n",
    "\n",
    "           #hid[0] hid[1] hid[2]\n",
    "hp_wgt = [ [0.3, 1.1, -0.3], #hurt?\n",
    "           [0.1, 0.2, 0.0], #win?\n",
    "           [0.0, 1.3, 0.1] ] #sad?\n",
    "weights = [ih_wgt,hp_wgt]\n",
    "\n",
    "def neural_network(input,weights):\n",
    "    hid = vect_mat_mul(input,weights[0])\n",
    "    pred = vect_mat_mul(hid,weights[1])\n",
    "    return pred\n",
    "\n",
    "toes =  [8.5, 9.5, 9.9, 9.0]\n",
    "wlrec = [0.65,0.8, 0.8, 0.9]\n",
    "nfans = [1.2, 1.3, 0.5, 1.0]\n",
    "\n",
    "input = [toes[0],wlrec[0],nfans[0]]\n",
    "pred = neural_network(input,weights)\n",
    "\n",
    "print(pred)\n"
   ]
  },
  {
   "cell_type": "markdown",
   "metadata": {},
   "source": [
    "#### The better way to do this using NumPy"
   ]
  },
  {
   "cell_type": "code",
   "execution_count": 26,
   "metadata": {},
   "outputs": [
    {
     "name": "stdout",
     "output_type": "stream",
     "text": [
      "[0.2135 0.145  0.5065]\n"
     ]
    }
   ],
   "source": [
    "import numpy as np\n",
    "\n",
    "ih_wgt = np.array([ [0.1, 0.2, -0.1],\n",
    "           [-0.1,0.1, 0.9], \n",
    "           [0.1, 0.4, 0.1]]).T\n",
    "\n",
    "hp_wgt = np.array([[0.3, 1.1, -0.3],\n",
    "           [0.1, 0.2, 0.0], \n",
    "           [0.0, 1.3, 0.1]] ).T\n",
    "\n",
    "weights = [ih_wgt,hp_wgt]\n",
    "\n",
    "def neural_network(input,weights):\n",
    "    hid = input.dot(weights[0])\n",
    "    pred = hid.dot(weights[1])\n",
    "    return pred\n",
    "\n",
    "toes =  np.array([8.5, 9.5, 9.9, 9.0])\n",
    "wlrec = np.array([0.65,0.8, 0.8, 0.9])\n",
    "nfans = np.array([1.2, 1.3, 0.5, 1.0])\n",
    "\n",
    "input = np.array([toes[0],wlrec[0],nfans[0]])\n",
    "pred = neural_network(input,weights)\n",
    "\n",
    "print(pred)\n"
   ]
  },
  {
   "cell_type": "code",
   "execution_count": null,
   "metadata": {},
   "outputs": [],
   "source": []
  }
 ],
 "metadata": {
  "kernelspec": {
   "display_name": "Python 3",
   "language": "python",
   "name": "python3"
  },
  "language_info": {
   "codemirror_mode": {
    "name": "ipython",
    "version": 3
   },
   "file_extension": ".py",
   "mimetype": "text/x-python",
   "name": "python",
   "nbconvert_exporter": "python",
   "pygments_lexer": "ipython3",
   "version": "3.8.2"
  }
 },
 "nbformat": 4,
 "nbformat_minor": 4
}
