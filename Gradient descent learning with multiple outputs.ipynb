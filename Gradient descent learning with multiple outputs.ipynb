{
 "cells": [
  {
   "cell_type": "markdown",
   "metadata": {},
   "source": [
    "# Gradient descent learning with multiple outputs"
   ]
  },
  {
   "cell_type": "code",
   "execution_count": 2,
   "metadata": {},
   "outputs": [],
   "source": [
    "def ele_mul(scalar,vector):\n",
    "    out = [0,0,0]\n",
    "    for i in range(len(vector)):\n",
    "        out[i] = scalar*vector[i]\n",
    "    return out"
   ]
  },
  {
   "cell_type": "code",
   "execution_count": 3,
   "metadata": {},
   "outputs": [],
   "source": [
    "weights = [0.3,0.2,0.9]\n",
    "\n",
    "def neural_network(input,weights):\n",
    "    pred = ele_mul(input,weights)\n",
    "    \n",
    "    return pred"
   ]
  },
  {
   "cell_type": "markdown",
   "metadata": {},
   "source": [
    "#### Making a prediction and calculatin error and delta"
   ]
  },
  {
   "cell_type": "code",
   "execution_count": 6,
   "metadata": {},
   "outputs": [],
   "source": [
    "wlrec = [0.65,1.0,1.0,0.9]\n",
    "hurt = [0.1,0.0,0.0,0.1]\n",
    "win = [1,1,0,1]\n",
    "sad = [0.1,0.0,0.1,0.2]\n",
    "\n",
    "input = wlrec[0]\n",
    "true = [hurt[0],win[0],sad[0]]\n",
    "\n",
    "pred = neural_network(input,weights)\n",
    "\n",
    "error = [0,0,0,0]\n",
    "delta = [0,0,0,0]\n",
    "for i in range(len(true)):\n",
    "    error[i] = (pred[i]-true[i])**2\n",
    "    delta[i] = pred[i]-true[i]"
   ]
  },
  {
   "cell_type": "markdown",
   "metadata": {},
   "source": [
    "#### Calculatin each weight delta and putting it on earch weights"
   ]
  },
  {
   "cell_type": "code",
   "execution_count": 8,
   "metadata": {},
   "outputs": [],
   "source": [
    "def scalar_ele_mul(number,vector):\n",
    "    output = [0,0,0]\n",
    "    assert(len(output)==len(vector))\n",
    "    for i in range(len(vector)):\n",
    "        output[i] = number*vector[i]\n",
    "        \n",
    "        return output\n",
    "    \n",
    "wlrec = [0.65,1.0,1.0,0.9]\n",
    "\n",
    "hurt = [0.1,0.0,0.0,0.1]\n",
    "win = [1,1,0,1]\n",
    "sad = [0.1,0.0,0.1,0.2]\n",
    "\n",
    "input = wlrec[0]\n",
    "true = [hurt[0],win[0],sad[0]]\n",
    "\n",
    "pred = neural_network(input,weights)\n",
    "\n",
    "error = [0,0,0]\n",
    "delta = [0,0,0]\n",
    "\n",
    "for i in range(len(true)):\n",
    "    error[i] = (pred[i]-true[i])**2\n",
    "    delta[i] = pred[i]-true[i]\n",
    "weight_deltas = scalar_ele_mul(input,weights)\n"
   ]
  },
  {
   "cell_type": "markdown",
   "metadata": {},
   "source": [
    "#### Updating the weights"
   ]
  },
  {
   "cell_type": "code",
   "execution_count": 11,
   "metadata": {},
   "outputs": [
    {
     "name": "stdout",
     "output_type": "stream",
     "text": [
      "Weights:[0.28049999999999997, 0.2, 0.9]\n",
      "Weight Deltas:[0.195, 0, 0]\n"
     ]
    }
   ],
   "source": [
    "input = wlrec[0]\n",
    "true = [hurt[0],win[0],sad[0]]\n",
    "pred = neural_network(input,weights)\n",
    "\n",
    "error = [0,0,0]\n",
    "delta = [0,0,0]\n",
    "\n",
    "for i in range(len(true)):\n",
    "    error[i] = (pred[i]-true[i]) ** 2\n",
    "    delta[i] = pred[i]-true[i]\n",
    "weight_deltas = scalar_ele_mul(input,weights)\n",
    "alpha = 0.1\n",
    "for i in range(len(weights)):\n",
    "    weights[i] -= (weight_deltas[i]*alpha)\n",
    "\n",
    "print(\"Weights:\" + str(weights)) \n",
    "print(\"Weight Deltas:\" + str(weight_deltas))"
   ]
  }
 ],
 "metadata": {
  "kernelspec": {
   "display_name": "Python 3",
   "language": "python",
   "name": "python3"
  },
  "language_info": {
   "codemirror_mode": {
    "name": "ipython",
    "version": 3
   },
   "file_extension": ".py",
   "mimetype": "text/x-python",
   "name": "python",
   "nbconvert_exporter": "python",
   "pygments_lexer": "ipython3",
   "version": "3.8.2"
  }
 },
 "nbformat": 4,
 "nbformat_minor": 4
}
