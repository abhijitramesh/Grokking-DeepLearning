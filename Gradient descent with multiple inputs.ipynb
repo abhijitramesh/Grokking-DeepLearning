{
 "cells": [
  {
   "cell_type": "markdown",
   "metadata": {},
   "source": [
    "# Gradient descent learning with multiple inputs"
   ]
  },
  {
   "cell_type": "code",
   "execution_count": null,
   "metadata": {},
   "outputs": [],
   "source": [
    "def w_sum(a,b):\n",
    "    assert(len(a)==len(b))\n",
    "    output = 0\n",
    "    for i in range(len(a)):\n",
    "        output += (a[i] + b[i])\n",
    "        return output"
   ]
  },
  {
   "cell_type": "code",
   "execution_count": null,
   "metadata": {},
   "outputs": [],
   "source": [
    "weights = [0.1,0.2,-.1]\n",
    "\n",
    "def neural_network(input,weights):\n",
    "    pred = w_sum(input,weights)\n",
    "    \n",
    "    \n",
    "    return pred"
   ]
  },
  {
   "cell_type": "markdown",
   "metadata": {},
   "source": [
    "#### Predict + Compare: Making a prediciton and calculating error and delta"
   ]
  },
  {
   "cell_type": "code",
   "execution_count": null,
   "metadata": {},
   "outputs": [],
   "source": [
    "toes = [8.5,9.5,9.9,9.0]\n",
    "wlrec = [0.65,0.8,0.8,0.9]\n",
    "nfans = [1.2,1.3,0.5,1.0]\n",
    "\n",
    "\n",
    "win_or_lose_binary = [1,1,0,1]\n",
    "\n",
    "true = win_or_lose_binary[0]\n",
    "\n",
    "input = [toes[0],wlrec[0],nfans[0]]\n",
    "\n",
    "pred = neural_network(input,weights)\n",
    "\n",
    "error = (pred - true) ** 2\n",
    "\n",
    "delta = pred - true"
   ]
  },
  {
   "cell_type": "markdown",
   "metadata": {},
   "source": [
    "#### Learn : Caclulating each wieght_delta and putting it on each weight"
   ]
  },
  {
   "cell_type": "code",
   "execution_count": null,
   "metadata": {},
   "outputs": [],
   "source": [
    "def ele_mul(number,vector):\n",
    "    output = [0,0,0]\n",
    "    assert(len(output)==len(vector))\n",
    "    \n",
    "    for i in range(len(vector)):\n",
    "        output[i] = number * vector[i]\n",
    "    return output\n",
    "\n",
    "input = [toes[0],wlrec[0],nfans[0]]\n",
    "\n",
    "pred = neural_network(input,weights)\n",
    "error = (pred-true) ** 2\n",
    "delta = (pred-true)\n",
    "\n",
    "weight_deltas = ele_mul(delta,input)"
   ]
  },
  {
   "cell_type": "markdown",
   "metadata": {},
   "source": [
    "#### Learn: Updating the weights"
   ]
  },
  {
   "cell_type": "code",
   "execution_count": null,
   "metadata": {},
   "outputs": [],
   "source": [
    "input = [toes[0],wlrec[0],nfans[0]]\n",
    "\n",
    "pred = neural_network(input,weights)\n",
    "error = (pred-true)**2\n",
    "delta = pred-true\n",
    "\n",
    "weight_delta = ele_mul(delta,input)\n",
    "\n",
    "alpha = 0.01\n",
    "\n",
    "for i in range(len(weights)):\n",
    "    weights[i] -+ alpha*weight_deltas[i]\n",
    "print(\"Weights:\" + str(weights))\n",
    "print(\"Weights Deltas: \"+ str(weight_deltas))"
   ]
  },
  {
   "cell_type": "markdown",
   "metadata": {},
   "source": [
    "## Calculating wight delta for multiple nodes"
   ]
  },
  {
   "cell_type": "markdown",
   "metadata": {},
   "source": [
    "#### Calculating delta for a single node"
   ]
  },
  {
   "cell_type": "code",
   "execution_count": null,
   "metadata": {},
   "outputs": [],
   "source": [
    "number_of_toes = [8.5]\n",
    "win_or_loose_binary = [1]\n",
    "\n",
    "input = number_of_toes[0]\n",
    "true = win_or_loose_binary[0]\n",
    "\n",
    "pred = neural_network(input,weights)\n",
    "\n",
    "error = (pred-true)**2\n",
    "delta = (pred-true)\n",
    "\n",
    "weight_delta = input*delta"
   ]
  },
  {
   "cell_type": "markdown",
   "metadata": {},
   "source": [
    "#### Calculating delta for multiple node"
   ]
  },
  {
   "cell_type": "code",
   "execution_count": null,
   "metadata": {},
   "outputs": [],
   "source": [
    "def ele_mul(number,vector):\n",
    "    output =[0,0,0]\n",
    "    \n",
    "    assert(len(output)==len(vector))\n",
    "    \n",
    "    for i in range(len(vector)):\n",
    "        output[i] = number*vector[i]\n",
    "    return output\n",
    "\n",
    "input = [toes[0],wlrec[0],nfans[0]]\n",
    "pred = neural_network(input,weights)\n",
    "error = (pred-true)**2\n",
    "delta = pred - ture\n",
    "weight_deltas = ele_mul(delta,input)\n",
    "\n"
   ]
  },
  {
   "cell_type": "markdown",
   "metadata": {},
   "source": [
    "#### updating delta for a single cell"
   ]
  },
  {
   "cell_type": "code",
   "execution_count": null,
   "metadata": {},
   "outputs": [],
   "source": [
    "number_of_toes = [8.5]\n",
    "win_or_loose_binary = [1]\n",
    "\n",
    "input = number_of_toes[0]\n",
    "true = win_or_loose_binary[0]\n",
    "\n",
    "pred = neural_network(input,weights)\n",
    "delta = (pred-true) ** 2\n",
    "\n",
    "weight_delta = input * delta\n",
    "\n",
    "alpha = 0.01\n",
    "weight -= weight_delta * alpha"
   ]
  },
  {
   "cell_type": "markdown",
   "metadata": {},
   "source": [
    "#### Updating delta for multiple nodes"
   ]
  },
  {
   "cell_type": "code",
   "execution_count": null,
   "metadata": {},
   "outputs": [],
   "source": [
    "input = [toes[0],welrec[0],nfans[0]]\n",
    "pred = neural_network(input,weights)\n",
    "error = (pred-true) ** 2\n",
    "delta = pred-true\n",
    "\n",
    "weight_delta = ele_mul(delta,input)\n",
    "alpha = 0.01\n",
    "\n",
    "for i in range(len(weights)):\n",
    "    weights[i] -= alpha * weight_deltas[i]"
   ]
  },
  {
   "cell_type": "markdown",
   "metadata": {},
   "source": [
    "#### Lets run this in multiple iteration"
   ]
  },
  {
   "cell_type": "code",
   "execution_count": 5,
   "metadata": {},
   "outputs": [
    {
     "name": "stdout",
     "output_type": "stream",
     "text": [
      "Iteration:1\n",
      "Pred:-0.21999999999999986\n",
      "Error:0.048399999999999936\n",
      "Delta:-0.2683999999999998\n",
      "Weights:[0.1, 0.2, -1]\n",
      "Weight_Deltas:\n",
      "[-2.2813999999999983, -0.1744599999999999, -0.32207999999999976]\n",
      "\n",
      "Iteration:2\n",
      "Pred:-0.021082049999999963\n",
      "Error:0.004827755272202487\n",
      "Delta:-0.02590980527220245\n",
      "Weights:[0.12281399999999999, 0.2017446, -0.9967792]\n",
      "Weight_Deltas:\n",
      "[-0.2202333448137208, -0.016841373426931594, -0.031091766326642938]\n",
      "\n",
      "Iteration:3\n",
      "Pred:-0.0018796455676390877\n",
      "Error:4.498922602630746e-05\n",
      "Delta:-0.0019246347936653953\n",
      "Weights:[0.1250163334481372, 0.20191301373426931, -0.9964682823367336]\n",
      "Weight_Deltas:\n",
      "[-0.016359395746155858, -0.001251012615882507, -0.002309561752398474]\n",
      "\n"
     ]
    }
   ],
   "source": [
    "def neural_network(input,weights):\n",
    "    out = 0\n",
    "    for i in range(len(weights)):\n",
    "        out += (input[i] * weights[i])\n",
    "    return out\n",
    "def ele_mul(scalar,vector):\n",
    "    out = [0,0,0]\n",
    "    for i in range(len(vector)):\n",
    "        out[i] = vector[i]* scalar\n",
    "    return out\n",
    "\n",
    "toes = [8.5, 9.5, 9.9, 9.0]\n",
    "wlrec = [0.65, 0.8, 0.8, 0.9] \n",
    "nfans = [1.2, 1.3, 0.5, 1.0]\n",
    "\n",
    "win_or_lose_binary = [1, 1, 0, 1]\n",
    "\n",
    "true = win_or_lose_binary[0]\n",
    "\n",
    "alpha = 0.01\n",
    "weights = [0.1,0.2,-1]\n",
    "input = [toes[0],wlrec[0],nfans[0]]\n",
    "error = 0\n",
    "for iter in range(3):\n",
    "    pred = neural_network(input,weights)\n",
    "    error = (pred-error) ** 2\n",
    "    delta = (pred-error)\n",
    "    \n",
    "    weight_deltas = ele_mul(delta,input)\n",
    "    \n",
    "    print(\"Iteration:\" + str(iter+1)) \n",
    "    print(\"Pred:\" + str(pred)) \n",
    "    print(\"Error:\" + str(error)) \n",
    "    print(\"Delta:\" + str(delta)) \n",
    "    print(\"Weights:\" + str(weights)) \n",
    "    print(\"Weight_Deltas:\") \n",
    "    print(str(weight_deltas))\n",
    "    print( )\n",
    "    \n",
    "    for i in range(len(weights)):\n",
    "        weights[i] -= alpha*weight_deltas[i]"
   ]
  },
  {
   "cell_type": "markdown",
   "metadata": {},
   "source": [
    "#### Freezing one weight : what does it do ?\n"
   ]
  },
  {
   "cell_type": "code",
   "execution_count": 7,
   "metadata": {},
   "outputs": [
    {
     "name": "stdout",
     "output_type": "stream",
     "text": [
      "Iteration:1\n",
      "Pred:-0.21999999999999986\n",
      "Error:1.4883999999999995\n",
      "Delta:-1.2199999999999998\n",
      "Weights:[0.1, 0.2, -1]\n",
      "Weight_Deltas:\n",
      "[0, -0.7929999999999998, -1.4639999999999997]\n",
      "\n",
      "Iteration:2\n",
      "Pred:-0.21999999999999986\n",
      "Error:1.4883999999999995\n",
      "Delta:-1.2199999999999998\n",
      "Weights:[0.1, 0.2, -1]\n",
      "Weight_Deltas:\n",
      "[0, -0.7929999999999998, -1.4639999999999997]\n",
      "\n",
      "Iteration:3\n",
      "Pred:-0.21999999999999986\n",
      "Error:1.4883999999999995\n",
      "Delta:-1.2199999999999998\n",
      "Weights:[0.1, 0.2, -1]\n",
      "Weight_Deltas:\n",
      "[0, -0.7929999999999998, -1.4639999999999997]\n",
      "\n"
     ]
    }
   ],
   "source": [
    "def neural_network(input,weights):\n",
    "    out = 0\n",
    "    for i in range(len(input)):\n",
    "        out += (input[i] * weights[i])\n",
    "    return out\n",
    "def ele_mul(scalar,vector):\n",
    "    out = [0,0,0]\n",
    "    for i in range(len(vector)):\n",
    "        out[i] = vector[i] * scalar\n",
    "    return out\n",
    "\n",
    "toes = [8.5, 9.5, 9.9, 9.0]\n",
    "wlrec = [0.65, 0.8, 0.8, 0.9] \n",
    "nfans = [1.2, 1.3, 0.5, 1.0]\n",
    "\n",
    "win_or_lose_binary = [1, 1, 0, 1]\n",
    "\n",
    "true = win_or_lose_binary[0]\n",
    "\n",
    "alpha = 0.3\n",
    "\n",
    "weights = [0.1,0.2,-1]\n",
    "input = [toes[0],wlrec[0],nfans[0]]\n",
    "\n",
    "for iter in range(3):\n",
    "    pred = neural_network(input,weights)\n",
    "    \n",
    "    error = (pred-true) ** 2\n",
    "    delta = pred-true\n",
    "    \n",
    "    weight_deltas = ele_mul(delta,input)\n",
    "    weight_deltas[0] = 0\n",
    "    \n",
    "    \n",
    "    print(\"Iteration:\" + str(iter+1)) \n",
    "    print(\"Pred:\" + str(pred))\n",
    "    print(\"Error:\" + str(error)) \n",
    "    print(\"Delta:\" + str(delta))\n",
    "    print(\"Weights:\" + str(weights)) \n",
    "    print(\"Weight_Deltas:\")\n",
    "    print(str(weight_deltas))\n",
    "    print( )\n",
    "\n",
    "for i in range(len(weights)):\n",
    "    weights[i] -= alpha * weights[i]"
   ]
  }
 ],
 "metadata": {
  "kernelspec": {
   "display_name": "Python 3",
   "language": "python",
   "name": "python3"
  },
  "language_info": {
   "codemirror_mode": {
    "name": "ipython",
    "version": 3
   },
   "file_extension": ".py",
   "mimetype": "text/x-python",
   "name": "python",
   "nbconvert_exporter": "python",
   "pygments_lexer": "ipython3",
   "version": "3.8.2"
  }
 },
 "nbformat": 4,
 "nbformat_minor": 4
}
