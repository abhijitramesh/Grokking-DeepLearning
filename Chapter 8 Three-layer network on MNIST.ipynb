{
 "cells": [
  {
   "cell_type": "code",
   "execution_count": 2,
   "metadata": {},
   "outputs": [],
   "source": [
    "import sys\n",
    "import numpy as np\n",
    "from keras.datasets import mnist"
   ]
  },
  {
   "cell_type": "code",
   "execution_count": 3,
   "metadata": {},
   "outputs": [],
   "source": [
    "(x_train, y_train),(x_test,y_test) = mnist.load_data()"
   ]
  },
  {
   "cell_type": "code",
   "execution_count": 4,
   "metadata": {},
   "outputs": [],
   "source": [
    "images, labels = (x_train[0:1000].reshape(1000,28*28) / 255, y_train[0:1000])"
   ]
  },
  {
   "cell_type": "code",
   "execution_count": 5,
   "metadata": {},
   "outputs": [],
   "source": [
    "one_hot_labels = np.zeros((len(labels),10))"
   ]
  },
  {
   "cell_type": "code",
   "execution_count": 6,
   "metadata": {},
   "outputs": [],
   "source": [
    "for i,l in enumerate(labels):\n",
    "    one_hot_labels[i][l] = 1\n",
    "labels = one_hot_labels"
   ]
  },
  {
   "cell_type": "code",
   "execution_count": 7,
   "metadata": {},
   "outputs": [],
   "source": [
    "test_images = x_test.reshape(len(x_test),28*28) /255\n",
    "test_labels = np.zeros((len(y_test),10))\n",
    "for i,l in enumerate(y_test):\n",
    "    test_labels[i][l] = 1"
   ]
  },
  {
   "cell_type": "code",
   "execution_count": 8,
   "metadata": {},
   "outputs": [],
   "source": [
    "np.random.seed(1)"
   ]
  },
  {
   "cell_type": "code",
   "execution_count": 9,
   "metadata": {},
   "outputs": [],
   "source": [
    "relu = lambda x:(x>0) * x\n",
    "relu2deriv = lambda x: x>=0"
   ]
  },
  {
   "cell_type": "code",
   "execution_count": 10,
   "metadata": {},
   "outputs": [],
   "source": [
    "alpha = 0.005\n",
    "iterations = 350\n",
    "hidden_size = 40\n",
    "pixels_per_image = 784\n",
    "num_labels = 10"
   ]
  },
  {
   "cell_type": "code",
   "execution_count": 11,
   "metadata": {},
   "outputs": [],
   "source": [
    "weights_0_1 = 0.2*np.random.random((pixels_per_image,hidden_size)) - 0.1\n",
    "weights_1_2 = 0.2*np.random.random((hidden_size,num_labels)) - 0.1"
   ]
  },
  {
   "cell_type": "code",
   "execution_count": 12,
   "metadata": {},
   "outputs": [
    {
     "name": "stdout",
     "output_type": "stream",
     "text": [
      " I:349 Train-Err:0.108 Train-Acc:1.099"
     ]
    }
   ],
   "source": [
    "for j in range(iterations):\n",
    "    error, correct_cnt = (0.0, 0)\n",
    "    \n",
    "    for i in range(len(images)):\n",
    "        layer_0 = images[i:i+1]\n",
    "        layer_1 = relu(np.dot(layer_0,weights_0_1))\n",
    "        layer_2 = np.dot(layer_1,weights_1_2)\n",
    "\n",
    "        error += np.sum((labels[i:i+1] - layer_2) ** 2)\n",
    "        correct_cnt += int(np.argmax(layer_2) == \\\n",
    "                                        np.argmax(labels[i:i+1]))\n",
    "\n",
    "        layer_2_delta = (labels[i:i+1] - layer_2)\n",
    "        layer_1_delta = layer_2_delta.dot(weights_1_2.T)\\\n",
    "                                    * relu2deriv(layer_1)\n",
    "        weights_1_2 += alpha * layer_1.T.dot(layer_2_delta)\n",
    "        weights_0_1 += alpha * layer_0.T.dot(layer_1_delta)\n",
    "\n",
    "    sys.stdout.write(\"\\r I:\"+str(j)+ \\\n",
    "                     \" Train-Err:\" + str(error/float(len(images)))[0:5] +\\\n",
    "                     \" Train-Acc:\" + str(correct_cnt/float(len(images))))"
   ]
  },
  {
   "cell_type": "code",
   "execution_count": 13,
   "metadata": {},
   "outputs": [
    {
     "name": "stdout",
     "output_type": "stream",
     "text": [
      " Test-Err:0.653 Test-Acc:0.7073\n",
      "\n"
     ]
    }
   ],
   "source": [
    "if(j%10 == 0 or j == iterations-1):\n",
    "    error , correct_cnt = (0.0,0)\n",
    "    \n",
    "    for i in range(len(test_images)):\n",
    "        layer_0 = test_images[i:i+1]\n",
    "        layer_1 = relu(np.dot(layer_0,weights_0_1))\n",
    "        layer_2 = np.dot(layer_1,weights_1_2)\n",
    "        \n",
    "        error += np.sum((test_labels[i:i+1] - layer_2) ** 2)\n",
    "        \n",
    "        correct_cnt += int(np.argmax(layer_2)== np.argmax(test_labels[i:i+1]))\n",
    "        \n",
    "    sys.stdout.write(\" Test-Err:\" + str(error/float(len(test_images)))[0:5] +\\\n",
    "                     \" Test-Acc:\" + str(correct_cnt/float(len(test_images))) + \"\\n\")\n",
    "    print()"
   ]
  },
  {
   "cell_type": "markdown",
   "metadata": {},
   "source": [
    "## Dropout in code"
   ]
  },
  {
   "cell_type": "code",
   "execution_count": 14,
   "metadata": {},
   "outputs": [],
   "source": [
    "i =0\n",
    "layer_0 = images[i:i+1]\n",
    "dropout_mask = np.random.randint(2,size=layer_1.shape)\n",
    "\n",
    "layer_1 += dropout_mask * 2\n",
    "layer_2 = np.dot(layer_1,weights_1_2)\n",
    "\n",
    "error += np.sum((labels[i:i+1]-layer_2)**2)\n",
    "\n",
    "correct_cnt += int(np.argmax(layer_2) == np.argmax(labels[i+i+1]))\n",
    "\n",
    "layer_2_delta = (labels[i:i+1] - layer_2)\n",
    "layer_1_delta = layer_2_delta.dot(weights_1_2.T) * relu2deriv(layer_1)\n",
    "\n",
    "layer_1_delta *= dropout_mask\n",
    "\n",
    "weights_1_2 += alpha * layer_1.T.dot(layer_2_delta)\n",
    "weights_0_1 += alpha * layer_0.T.dot(layer_1_delta)"
   ]
  },
  {
   "cell_type": "code",
   "execution_count": 15,
   "metadata": {},
   "outputs": [],
   "source": [
    "import numpy,sys\n",
    "np.random.seed(1)\n",
    "\n",
    "def relu(x):\n",
    "    return (x>=0)*x\n",
    "def reluderiv(x):\n",
    "    return x>=0\n"
   ]
  },
  {
   "cell_type": "code",
   "execution_count": 21,
   "metadata": {},
   "outputs": [],
   "source": [
    "alpha = 0.005\n",
    "iterations = 300\n",
    "hidden_size = 100\n",
    "pixels_per_image = 784\n",
    "num_labels = 10"
   ]
  },
  {
   "cell_type": "code",
   "execution_count": 22,
   "metadata": {},
   "outputs": [],
   "source": [
    "weights_0_1 = 0.2*np.random.random((pixels_per_image,hidden_size)) - 0.1\n",
    "weights_1_2 = 0.2*np.random.random((hidden_size,num_labels)) - 0.1"
   ]
  },
  {
   "cell_type": "code",
   "execution_count": 27,
   "metadata": {},
   "outputs": [
    {
     "name": "stdout",
     "output_type": "stream",
     "text": [
      "\n",
      "I:0 Test-Err:0.636 Test-Acc:0.6376 Train-Err:0.901 Train-Acc:0.39\n",
      "I:10 Test-Err:0.460 Test-Acc:0.8015 Train-Err:0.480 Train-Acc:0.764\n",
      "I:20 Test-Err:0.440 Test-Acc:0.8152 Train-Err:0.444 Train-Acc:0.815\n",
      "I:30 Test-Err:0.430 Test-Acc:0.8225 Train-Err:0.428 Train-Acc:0.821\n",
      "I:40 Test-Err:0.418 Test-Acc:0.8281 Train-Err:0.411 Train-Acc:0.842\n",
      "I:50 Test-Err:0.404 Test-Acc:0.824 Train-Err:0.380 Train-Acc:0.841\n",
      "I:60 Test-Err:0.407 Test-Acc:0.822 Train-Err:0.383 Train-Acc:0.846\n",
      "I:70 Test-Err:0.396 Test-Acc:0.8232 Train-Err:0.369 Train-Acc:0.868\n",
      "I:80 Test-Err:0.393 Test-Acc:0.822 Train-Err:0.346 Train-Acc:0.882\n",
      "I:90 Test-Err:0.389 Test-Acc:0.825 Train-Err:0.351 Train-Acc:0.876\n",
      "I:100 Test-Err:0.392 Test-Acc:0.8248 Train-Err:0.341 Train-Acc:0.891\n",
      "I:110 Test-Err:0.390 Test-Acc:0.8213 Train-Err:0.340 Train-Acc:0.886\n",
      "I:120 Test-Err:0.386 Test-Acc:0.8222 Train-Err:0.341 Train-Acc:0.882\n",
      "I:130 Test-Err:0.397 Test-Acc:0.8157 Train-Err:0.340 Train-Acc:0.887\n",
      "I:140 Test-Err:0.396 Test-Acc:0.815 Train-Err:0.352 Train-Acc:0.883\n",
      "I:150 Test-Err:0.395 Test-Acc:0.8211 Train-Err:0.332 Train-Acc:0.889\n",
      "I:160 Test-Err:0.398 Test-Acc:0.8133 Train-Err:0.333 Train-Acc:0.893\n",
      "I:170 Test-Err:0.398 Test-Acc:0.8164 Train-Err:0.337 Train-Acc:0.903\n",
      "I:180 Test-Err:0.406 Test-Acc:0.8127 Train-Err:0.317 Train-Acc:0.887\n",
      "I:190 Test-Err:0.394 Test-Acc:0.8119 Train-Err:0.328 Train-Acc:0.893\n",
      "I:200 Test-Err:0.404 Test-Acc:0.8067 Train-Err:0.322 Train-Acc:0.91\n",
      "I:210 Test-Err:0.417 Test-Acc:0.8078 Train-Err:0.327 Train-Acc:0.886\n",
      "I:220 Test-Err:0.406 Test-Acc:0.8092 Train-Err:0.333 Train-Acc:0.903\n",
      "I:230 Test-Err:0.411 Test-Acc:0.8144 Train-Err:0.317 Train-Acc:0.909\n",
      "I:240 Test-Err:0.408 Test-Acc:0.8023 Train-Err:0.316 Train-Acc:0.892\n",
      "I:250 Test-Err:0.406 Test-Acc:0.8055 Train-Err:0.309 Train-Acc:0.907\n",
      "I:260 Test-Err:0.407 Test-Acc:0.8054 Train-Err:0.310 Train-Acc:0.908\n",
      "I:270 Test-Err:0.412 Test-Acc:0.805 Train-Err:0.315 Train-Acc:0.909\n",
      "I:280 Test-Err:0.407 Test-Acc:0.8053 Train-Err:0.317 Train-Acc:0.902\n",
      "I:290 Test-Err:0.412 Test-Acc:0.8114 Train-Err:0.289 Train-Acc:0.905"
     ]
    }
   ],
   "source": [
    "for j in range(iterations):\n",
    "    error, correct_cnt = (0.0,0)\n",
    "    \n",
    "    for i in range(len(images)):\n",
    "        layer_0 = images[i:i+1]\n",
    "        layer_1 = relu(np.dot(layer_0,weights_0_1))\n",
    "        dropout_mask = np.random.randint(2, size=layer_1.shape)\n",
    "        layer_1 *= dropout_mask * 2\n",
    "        layer_2 = np.dot(layer_1,weights_1_2)\n",
    "        \n",
    "        error += np.sum((labels[i:i+1]-layer_2)**2)\n",
    "        correct_cnt += int(np.argmax(layer_2) == np.argmax(labels[i:i+1]))\n",
    "        \n",
    "        layer_2_delta = (labels[i:i+1]-layer_2)\n",
    "        layer_1_delta = layer_2_delta.dot(weights_1_2.T)*reluderiv(layer_1)\n",
    "        layer_1_delta *= dropout_mask\n",
    "        \n",
    "        weights_1_2 += alpha * layer_1.T.dot(layer_2_delta)\n",
    "        weights_0_1 += alpha * layer_0.T.dot(layer_1_delta)\n",
    "\n",
    "    if(j%10 == 0):\n",
    "        test_error = 0.0\n",
    "        test_correct_cnt = 0\n",
    "\n",
    "        for i in range(len(test_images)):\n",
    "            layer_0 = test_images[i:i+1]\n",
    "            layer_1 = relu(np.dot(layer_0,weights_0_1))\n",
    "            layer_2 = np.dot(layer_1, weights_1_2)\n",
    "\n",
    "            test_error += np.sum((test_labels[i:i+1] - layer_2) ** 2)\n",
    "            test_correct_cnt += int(np.argmax(layer_2) == np.argmax(test_labels[i:i+1]))\n",
    "\n",
    "        sys.stdout.write(\"\\n\" + \\\n",
    "                         \"I:\" + str(j) + \\\n",
    "                         \" Test-Err:\" + str(test_error/ float(len(test_images)))[0:5] +\\\n",
    "                         \" Test-Acc:\" + str(test_correct_cnt/ float(len(test_images)))+\\\n",
    "                         \" Train-Err:\" + str(error/ float(len(images)))[0:5] +\\\n",
    "                         \" Train-Acc:\" + str(correct_cnt/ float(len(images))))"
   ]
  }
 ],
 "metadata": {
  "kernelspec": {
   "display_name": "Python 3",
   "language": "python",
   "name": "python3"
  },
  "language_info": {
   "codemirror_mode": {
    "name": "ipython",
    "version": 3
   },
   "file_extension": ".py",
   "mimetype": "text/x-python",
   "name": "python",
   "nbconvert_exporter": "python",
   "pygments_lexer": "ipython3",
   "version": "3.8.2"
  }
 },
 "nbformat": 4,
 "nbformat_minor": 4
}
