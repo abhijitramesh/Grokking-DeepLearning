{
 "cells": [
  {
   "cell_type": "markdown",
   "metadata": {},
   "source": [
    "## Creating a matrix or two in python"
   ]
  },
  {
   "cell_type": "code",
   "execution_count": 1,
   "metadata": {},
   "outputs": [],
   "source": [
    "import numpy as np\n",
    "streetlights = np.array([[1,0,1],\n",
    "    [0,1,1],\n",
    "    [0,0,1],\n",
    "    [1,1,1,],\n",
    "    [0,1,1],\n",
    "    [1,0,1]])"
   ]
  },
  {
   "cell_type": "code",
   "execution_count": 5,
   "metadata": {},
   "outputs": [],
   "source": [
    "walk_vs_stop = np.array([[0],\n",
    "                        [1],\n",
    "                         [0],\n",
    "                         [1],\n",
    "                         [1],\n",
    "                         [0]])"
   ]
  },
  {
   "cell_type": "markdown",
   "metadata": {},
   "source": [
    "## Creating a neural network"
   ]
  },
  {
   "cell_type": "code",
   "execution_count": 7,
   "metadata": {},
   "outputs": [
    {
     "name": "stdout",
     "output_type": "stream",
     "text": [
      "Error:0.03999999999999998 Prediction:-0.19999999999999996\n",
      "Error:0.006400000000000012 Prediction:-0.08000000000000007\n",
      "Error:0.001024000000000002 Prediction:-0.03200000000000003\n",
      "Error:0.00016383999999999802 Prediction:-0.012799999999999923\n",
      "Error:2.6214400000000136e-05 Prediction:-0.005120000000000013\n",
      "Error:4.194304000000204e-06 Prediction:-0.0020480000000000498\n",
      "Error:6.710886400000326e-07 Prediction:-0.0008192000000000199\n",
      "Error:1.0737418240003433e-07 Prediction:-0.0003276800000000524\n",
      "Error:1.7179869184017134e-08 Prediction:-0.00013107200000006536\n",
      "Error:2.7487790694520544e-09 Prediction:-5.242880000011496e-05\n",
      "Error:4.39804651116054e-10 Prediction:-2.0971520000134802e-05\n",
      "Error:7.036874417782359e-11 Prediction:-8.388608000009512e-06\n",
      "Error:1.125899906815375e-11 Prediction:-3.355443199959396e-06\n",
      "Error:1.8014398509046001e-12 Prediction:-1.3421772799837584e-06\n",
      "Error:2.882303760970523e-13 Prediction:-5.368709119490944e-07\n",
      "Error:4.611686021367534e-14 Prediction:-2.147483648684556e-07\n",
      "Error:7.378697618929265e-15 Prediction:-8.58993458585644e-08\n",
      "Error:1.1805916220804402e-15 Prediction:-3.435973838783468e-08\n",
      "Error:1.8889465953287044e-16 Prediction:-1.3743895355133873e-08\n",
      "Error:3.022314601354052e-17 Prediction:-5.49755818646247e-09\n"
     ]
    }
   ],
   "source": [
    "import numpy as np \n",
    "weights = np.array([0.5,0.48,-0.7])\n",
    "alpha = 0.3\n",
    "\n",
    "streetlights = np.array([[1,0,1],\n",
    "                        [0,1,1],\n",
    "                        [0,0,1],\n",
    "                        [1,1,1],\n",
    "                        [0,1,1],\n",
    "                        [1,0,1]])\n",
    "\n",
    "walk_vs_stop = np.array([0,1,0,1,1,0])\n",
    "\n",
    "input = streetlights[0]\n",
    "goal_prediction = walk_vs_stop[0]\n",
    "\n",
    "for interation in range(20):\n",
    "    prediction = input.dot(weights)\n",
    "    error = (prediction - goal_prediction) ** 2\n",
    "    delta = prediction-goal_prediction\n",
    "    weights = weights - (alpha *(input*delta))\n",
    "    \n",
    "    print(\"Error:\" + str(error) + \" Prediction:\" + str(prediction))"
   ]
  },
  {
   "cell_type": "code",
   "execution_count": null,
   "metadata": {},
   "outputs": [],
   "source": []
  }
 ],
 "metadata": {
  "kernelspec": {
   "display_name": "Python 3",
   "language": "python",
   "name": "python3"
  },
  "language_info": {
   "codemirror_mode": {
    "name": "ipython",
    "version": 3
   },
   "file_extension": ".py",
   "mimetype": "text/x-python",
   "name": "python",
   "nbconvert_exporter": "python",
   "pygments_lexer": "ipython3",
   "version": "3.8.2"
  }
 },
 "nbformat": 4,
 "nbformat_minor": 4
}
